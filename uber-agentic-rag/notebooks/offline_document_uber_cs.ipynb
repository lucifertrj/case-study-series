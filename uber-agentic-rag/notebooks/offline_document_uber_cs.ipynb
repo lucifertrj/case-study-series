{
  "cells": [
    {
      "cell_type": "code",
      "execution_count": null,
      "metadata": {
        "id": "vnt6XhZLc8Mx"
      },
      "outputs": [],
      "source": [
        "!pip install pypdfium2 sumy\n",
        "!pip install langchain-community langchain\n",
        "!pip install qdrant-client fastembed\n",
        "!pip install langchain-sambanova\n",
        "!pip install 'markitdown[pdf, docx]'"
      ]
    },
    {
      "cell_type": "code",
      "execution_count": 2,
      "metadata": {
        "id": "xLQ_gw1_bKbw"
      },
      "outputs": [],
      "source": [
        "from markitdown import MarkItDown"
      ]
    },
    {
      "cell_type": "code",
      "execution_count": 19,
      "metadata": {
        "id": "0JKgub7eebdo"
      },
      "outputs": [],
      "source": [
        "md = MarkItDown(enable_plugins=False)"
      ]
    },
    {
      "cell_type": "code",
      "execution_count": null,
      "metadata": {
        "id": "BaY4dJmIbM8u"
      },
      "outputs": [],
      "source": [
        "result = md.convert(\"/content/policy_framework_legal_counsel.pdf\")"
      ]
    },
    {
      "cell_type": "code",
      "execution_count": null,
      "metadata": {
        "id": "4hX33ODlbVt8"
      },
      "outputs": [],
      "source": [
        "print(result.text_content)"
      ]
    },
    {
      "cell_type": "code",
      "execution_count": null,
      "metadata": {
        "id": "efPOqhsnf8za"
      },
      "outputs": [],
      "source": [
        "doc2 = md.convert(\"/content/NEP_Final_English_0.pdf\")"
      ]
    },
    {
      "cell_type": "code",
      "execution_count": null,
      "metadata": {
        "id": "m-3TrnQ9gAtW"
      },
      "outputs": [],
      "source": [
        "print(doc2.text_content)"
      ]
    },
    {
      "cell_type": "markdown",
      "metadata": {
        "id": "bankZvhLiWV8"
      },
      "source": [
        "## pypdfium"
      ]
    },
    {
      "cell_type": "code",
      "execution_count": 3,
      "metadata": {
        "id": "0buT4B39ifO8"
      },
      "outputs": [],
      "source": [
        "from langchain_community.document_loaders import FileSystemBlobLoader\n",
        "from langchain_community.document_loaders.generic import GenericLoader\n",
        "from langchain_community.document_loaders.parsers import PyPDFium2Parser"
      ]
    },
    {
      "cell_type": "code",
      "execution_count": 8,
      "metadata": {
        "id": "H-iDi6x6hZq7"
      },
      "outputs": [],
      "source": [
        "loader = GenericLoader(\n",
        "    blob_loader=FileSystemBlobLoader(\n",
        "        path=\"data\",\n",
        "        glob=\"*.pdf\",\n",
        "    ),\n",
        "    blob_parser=PyPDFium2Parser(),\n",
        ")"
      ]
    },
    {
      "cell_type": "code",
      "execution_count": null,
      "metadata": {
        "id": "b8s409b-ijQz"
      },
      "outputs": [],
      "source": [
        "docs = loader.load()"
      ]
    },
    {
      "cell_type": "code",
      "execution_count": 10,
      "metadata": {
        "colab": {
          "base_uri": "https://localhost:8080/"
        },
        "id": "Cj_T87ejikax",
        "outputId": "7866c44a-3776-45db-f48a-e72f82a79a8d"
      },
      "outputs": [
        {
          "data": {
            "text/plain": [
              "85"
            ]
          },
          "execution_count": 10,
          "metadata": {},
          "output_type": "execute_result"
        }
      ],
      "source": [
        "len(docs)"
      ]
    },
    {
      "cell_type": "code",
      "execution_count": 11,
      "metadata": {
        "colab": {
          "base_uri": "https://localhost:8080/"
        },
        "id": "CpOKrglFiuBV",
        "outputId": "d8324d99-2a1d-4723-cb88-dd9e6897a706"
      },
      "outputs": [
        {
          "name": "stdout",
          "output_type": "stream",
          "text": [
            "{'producer': 'Microsoft® Word 2016', 'creator': 'Microsoft® Word 2016', 'creationdate': '2020-07-30T20:22:15+05:30', 'title': '', 'author': 'HP', 'subject': '', 'keywords': '', 'moddate': '2020-07-30T20:22:15+05:30', 'source': 'data/NEP_Final_English_0.pdf', 'total_pages': 66, 'page': 2}\n"
          ]
        }
      ],
      "source": [
        "print(docs[2].metadata)"
      ]
    },
    {
      "cell_type": "markdown",
      "metadata": {
        "id": "KaT8YafFro7_"
      },
      "source": [
        "## Custom Metadata"
      ]
    },
    {
      "cell_type": "code",
      "execution_count": 2,
      "metadata": {
        "id": "S2DbKkHInDAb"
      },
      "outputs": [],
      "source": [
        "import os\n",
        "from google.colab import userdata\n",
        "\n",
        "from langchain_sambanova import ChatSambaNovaCloud\n",
        "from langchain.schema import HumanMessage\n",
        "import json\n",
        "from pydantic import BaseModel, Field\n",
        "from typing import List"
      ]
    },
    {
      "cell_type": "code",
      "execution_count": 14,
      "metadata": {
        "id": "Ru758oiSnBuP"
      },
      "outputs": [],
      "source": [
        "os.environ['SAMBANOVA_API_KEY'] = userdata.get(\"SAMBANOVA_API_KEY\")"
      ]
    },
    {
      "cell_type": "code",
      "execution_count": 15,
      "metadata": {
        "id": "ycAMnMMKlZZm"
      },
      "outputs": [],
      "source": [
        "summarizer_llm = ChatSambaNovaCloud(model=\"Meta-Llama-3.1-8B-Instruct\",max_tokens=4096,temperature=0.0)"
      ]
    },
    {
      "cell_type": "code",
      "execution_count": 16,
      "metadata": {
        "id": "TeDvC8ZLtKlO"
      },
      "outputs": [],
      "source": [
        "class FAQ(BaseModel):\n",
        "    question: str = Field(description=\"A relevant question about the chunk content\")\n",
        "    answer: str = Field(description=\"A concise answer based on the chunk content\")\n",
        "\n",
        "class ChunkMetadata(BaseModel):\n",
        "    faqs: List[FAQ] = Field(description=\"2-3 relevant FAQ pairs about the chunk content\")\n",
        "    keywords: List[str] = Field(description=\"5-7 key topics and keywords from the chunk\")"
      ]
    },
    {
      "cell_type": "code",
      "execution_count": null,
      "metadata": {
        "id": "GJjPgmvDrqs-"
      },
      "outputs": [],
      "source": [
        "def generate_document_summary(text: str, title: str) -> str:\n",
        "    from sumy.parsers.plaintext import PlaintextParser\n",
        "    from sumy.nlp.tokenizers import Tokenizer\n",
        "    from sumy.summarizers.text_rank import TextRankSummarizer\n",
        "    from typing import List\n",
        "    \n",
        "    if not text:\n",
        "        return \"Document is empty.\"\n",
        "\n",
        "    parser = PlaintextParser.from_string(text.strip(), Tokenizer(\"english\"))\n",
        "    summarizer = TextRankSummarizer()\n",
        "    sentence_count = min(6, len(parser.document.sentences))\n",
        "    summary_sentences: List = summarizer(parser.document, sentences_count=sentence_count)\n",
        "    summary = \" \".join(str(sentence) for sentence in summary_sentences)\n",
        "    return summary.strip()"
      ]
    },
    {
      "cell_type": "code",
      "execution_count": 18,
      "metadata": {
        "id": "2UfitmLSs1hU"
      },
      "outputs": [],
      "source": [
        "def generate_chunk_metadata(chunk_text: str, document_title: str) -> dict:\n",
        "    structured_llm = summarizer_llm.with_structured_output(ChunkMetadata)\n",
        "\n",
        "    prompt = f\"\"\"Based on this document chunk, generate:\n",
        "      1. 2-3 relevant FAQ pairs that users might ask about this specific content\n",
        "      2. 5-7 key topics/keywords that represent the main concepts\n",
        "\n",
        "      Document: {document_title}\n",
        "      Chunk Content: {chunk_text}\n",
        "      Focus on creating FAQs that would help users understand this specific section and keywords that capture the essential topics discussed.\"\"\"\n",
        "\n",
        "    try:\n",
        "        result = structured_llm.invoke([HumanMessage(content=prompt)])\n",
        "        return {\n",
        "            \"faqs\": [{\"question\": faq.question, \"answer\": faq.answer} for faq in result.faqs],\n",
        "            \"keywords\": result.keywords\n",
        "        }\n",
        "    except Exception as e:\n",
        "        print(f\"Error generating chunk metadata: {e}\")\n",
        "        return {\"faqs\": [], \"keywords\": []}"
      ]
    },
    {
      "cell_type": "code",
      "execution_count": 19,
      "metadata": {
        "id": "de0FkXwmtiwt"
      },
      "outputs": [],
      "source": [
        "def custom_metadta(documents):\n",
        "    document_summaries = {}\n",
        "\n",
        "    for doc in documents:\n",
        "        source = doc.metadata['source']\n",
        "        title = doc.metadata.get('title', 'Unknown Document')\n",
        "\n",
        "        if source not in document_summaries:\n",
        "            full_text = ' '.join([d.page_content for d in documents if d.metadata['source'] == source])\n",
        "            document_summaries[source] = generate_document_summary(full_text, title)\n",
        "\n",
        "        doc.metadata['document_summary'] = document_summaries[source]\n",
        "\n",
        "        chunk_metadata = generate_chunk_metadata(doc.page_content, title)\n",
        "        doc.metadata['chunk_faqs'] = chunk_metadata['faqs']\n",
        "        doc.metadata['chunk_keywords'] = chunk_metadata['keywords']\n",
        "        doc.metadata['chunk_id'] = f\"{source.split('/')[-1].split('.')[0]}_chunk_{hash(doc.page_content) % 10000}\"\n",
        "        doc.metadata['chunk_length'] = len(doc.page_content)\n",
        "\n",
        "    return documents"
      ]
    },
    {
      "cell_type": "code",
      "execution_count": null,
      "metadata": {
        "id": "b0s-pBuOtsGU"
      },
      "outputs": [],
      "source": [
        "chunks = custom_metadta(docs)"
      ]
    },
    {
      "cell_type": "code",
      "execution_count": null,
      "metadata": {
        "id": "1iPgTjVQuCLE"
      },
      "outputs": [],
      "source": [
        "chunks[2].metadata"
      ]
    },
    {
      "cell_type": "code",
      "execution_count": 2,
      "metadata": {
        "id": "fSVkv0GryfzL"
      },
      "outputs": [],
      "source": [
        "import pickle\n",
        "\n",
        "def save_enriched_documents(documents, filepath=\"enriched_documents.pkl\"):\n",
        "    \"\"\"Save enriched documents to pickle file\"\"\"\n",
        "    with open(filepath, 'wb') as f:\n",
        "        pickle.dump(documents, f)\n",
        "    print(f\"Saved {len(documents)} enriched documents to {filepath}\")\n",
        "\n",
        "def load_enriched_documents(filepath=\"enriched_documents.pkl\"):\n",
        "    \"\"\"Load enriched documents from pickle file\"\"\"\n",
        "    with open(filepath, 'rb') as f:\n",
        "        documents = pickle.load(f)\n",
        "    print(f\"Loaded {len(documents)} enriched documents from {filepath}\")\n",
        "    return documents"
      ]
    },
    {
      "cell_type": "code",
      "execution_count": 23,
      "metadata": {
        "colab": {
          "base_uri": "https://localhost:8080/"
        },
        "id": "0GcrzJVoynb7",
        "outputId": "1f386c31-9c9b-4ffa-d73b-b454cd28f4aa"
      },
      "outputs": [
        {
          "name": "stdout",
          "output_type": "stream",
          "text": [
            "Saved 85 enriched documents to /content/enriched_documents.pkl\n"
          ]
        }
      ],
      "source": [
        "save_enriched_documents(chunks, \"/content/enriched_documents.pkl\")"
      ]
    },
    {
      "cell_type": "code",
      "execution_count": 4,
      "metadata": {
        "colab": {
          "base_uri": "https://localhost:8080/"
        },
        "id": "xZysV42mysSW",
        "outputId": "54b95942-8f33-4781-b1ba-c45805937ea7"
      },
      "outputs": [
        {
          "name": "stdout",
          "output_type": "stream",
          "text": [
            "Loaded 85 enriched documents from /content/enriched_documents.pkl\n"
          ]
        }
      ],
      "source": [
        "chunks = load_enriched_documents(\"/content/enriched_documents.pkl\")"
      ]
    },
    {
      "cell_type": "code",
      "execution_count": 3,
      "metadata": {
        "id": "hr233bcXvDAU"
      },
      "outputs": [],
      "source": [
        "from qdrant_client import QdrantClient,models\n",
        "from qdrant_client.models import (\n",
        "    VectorParams, Distance, SparseVectorParams, Modifier,\n",
        "    BinaryQuantization, BinaryQuantizationConfig,PointStruct\n",
        ")\n",
        "from fastembed import TextEmbedding, SparseTextEmbedding\n",
        "import uuid,gc"
      ]
    },
    {
      "cell_type": "code",
      "execution_count": 4,
      "metadata": {
        "id": "B9_Dg7INvFqX"
      },
      "outputs": [],
      "source": [
        "client = QdrantClient(\n",
        "    url = userdata.get(\"QDRANT_URL\"),\n",
        "    api_key = userdata.get(\"QDRANT_API_KEY\"),\n",
        ")"
      ]
    },
    {
      "cell_type": "code",
      "execution_count": 6,
      "metadata": {
        "id": "go4O4pRXe_H8"
      },
      "outputs": [],
      "source": [
        "collection_name = \"casestudy\""
      ]
    },
    {
      "cell_type": "code",
      "execution_count": null,
      "metadata": {
        "id": "ue_RBY9EuKoO"
      },
      "outputs": [],
      "source": [
        "dense_model = TextEmbedding(model_name=\"jinaai/jina-embeddings-v2-small-en\")\n",
        "sparse_model = SparseTextEmbedding(model_name=\"Qdrant/BM25\")"
      ]
    },
    {
      "cell_type": "code",
      "execution_count": 24,
      "metadata": {
        "colab": {
          "base_uri": "https://localhost:8080/"
        },
        "id": "eWsBLIi3vNhw",
        "outputId": "764abbdb-665e-4194-e93f-774adadb1b73"
      },
      "outputs": [
        {
          "data": {
            "text/plain": [
              "True"
            ]
          },
          "execution_count": 24,
          "metadata": {},
          "output_type": "execute_result"
        }
      ],
      "source": [
        "client.create_collection(\n",
        "    collection_name=collection_name,\n",
        "    vectors_config={\n",
        "        \"dense\": VectorParams(\n",
        "            size=512,\n",
        "            distance=Distance.COSINE,\n",
        "            on_disk=True\n",
        "        ),\n",
        "    },\n",
        "    sparse_vectors_config={\n",
        "        \"sparse\": SparseVectorParams(\n",
        "            modifier=Modifier.IDF,\n",
        "        ),\n",
        "    },\n",
        "    quantization_config=BinaryQuantization(\n",
        "        binary=BinaryQuantizationConfig(always_ram=False)\n",
        "    )\n",
        ")"
      ]
    },
    {
      "cell_type": "code",
      "execution_count": 27,
      "metadata": {
        "id": "kKEZXU-Mw5O2"
      },
      "outputs": [],
      "source": [
        "def index_documents(data, batch_size=32):\n",
        "    total_docs = len(data)\n",
        "    successful_docs = 0\n",
        "\n",
        "    for i, doc in enumerate(data):\n",
        "        try:\n",
        "            # Create searchable text\n",
        "            faq_text = \" \".join([f\"Q: {faq['question']} A: {faq['answer']}\"\n",
        "                                for faq in doc.metadata.get('chunk_faqs', [])])\n",
        "            keywords_text = \" \".join(doc.metadata.get('chunk_keywords', []))\n",
        "            searchable_text = f\"{doc.page_content} {faq_text} {keywords_text}\".strip()\n",
        "\n",
        "            dense_embedding = next(dense_model.embed([searchable_text]))\n",
        "            sparse_embedding = next(sparse_model.embed([searchable_text]))\n",
        "\n",
        "            point = PointStruct(\n",
        "                id=str(uuid.uuid4()),\n",
        "                vector={\n",
        "                    \"dense\": dense_embedding,\n",
        "                    \"sparse\": sparse_embedding.as_object(),\n",
        "                },\n",
        "                payload={\n",
        "                    \"content\": doc.page_content,\n",
        "                    \"source\": doc.metadata['source'],\n",
        "                    \"page\": doc.metadata.get('page', 0),\n",
        "                    \"document_summary\": doc.metadata.get('document_summary', ''),\n",
        "                    \"chunk_faqs\": doc.metadata.get('chunk_faqs', []),\n",
        "                    \"chunk_keywords\": doc.metadata.get('chunk_keywords', []),\n",
        "                    \"chunk_id\": doc.metadata.get('chunk_id', ''),\n",
        "                }\n",
        "            )\n",
        "\n",
        "            client.upsert(\n",
        "                collection_name=collection_name,\n",
        "                points=[point],\n",
        "                wait=True\n",
        "            )\n",
        "\n",
        "            successful_docs += 1\n",
        "\n",
        "            del dense_embedding, sparse_embedding, point, searchable_text\n",
        "\n",
        "            if i % 10 == 0:\n",
        "                gc.collect()\n",
        "\n",
        "        except Exception as e:\n",
        "            gc.collect()\n",
        "            continue"
      ]
    },
    {
      "cell_type": "code",
      "execution_count": null,
      "metadata": {
        "id": "MmfvIzZVxDVI"
      },
      "outputs": [],
      "source": [
        "index_documents(chunks)"
      ]
    },
    {
      "cell_type": "markdown",
      "metadata": {
        "id": "dDOEr9LjqDg8"
      },
      "source": [
        "## Inference"
      ]
    },
    {
      "cell_type": "code",
      "execution_count": 7,
      "metadata": {
        "id": "qKOv9OwWqEq7"
      },
      "outputs": [],
      "source": [
        "query = \"National Education Policy 2020\"\n",
        "k = 5"
      ]
    },
    {
      "cell_type": "code",
      "execution_count": 8,
      "metadata": {
        "id": "uN_BcysdqHVr"
      },
      "outputs": [],
      "source": [
        "dense_vectors = next(dense_model.embed([query]))\n",
        "sparse_vectors = next(sparse_model.embed([query]))"
      ]
    },
    {
      "cell_type": "code",
      "execution_count": 9,
      "metadata": {
        "id": "Z9HV11LDqVgP"
      },
      "outputs": [],
      "source": [
        "prefetch = [\n",
        "    models.Prefetch(\n",
        "        query=dense_vectors,\n",
        "        using=\"dense\",\n",
        "        limit=10,\n",
        "    ),\n",
        "    models.Prefetch(\n",
        "        query=models.SparseVector(**sparse_vectors.as_object()),\n",
        "        using=\"sparse\",\n",
        "        limit=10,\n",
        "    )]"
      ]
    },
    {
      "cell_type": "code",
      "execution_count": 10,
      "metadata": {
        "id": "RHOV3ifoqh3d"
      },
      "outputs": [],
      "source": [
        "results = client.query_points(\n",
        "        collection_name,\n",
        "        prefetch=prefetch,\n",
        "        query=dense_vectors,\n",
        "        using=\"dense\",\n",
        "        with_payload=True,\n",
        "        limit=k,\n",
        ")"
      ]
    },
    {
      "cell_type": "code",
      "execution_count": 11,
      "metadata": {
        "colab": {
          "base_uri": "https://localhost:8080/"
        },
        "id": "4b7Hd4UgqvxC",
        "outputId": "c634a4a8-8cde-4381-efd8-db7352fddd2b"
      },
      "outputs": [
        {
          "data": {
            "text/plain": [
              "5"
            ]
          },
          "execution_count": 11,
          "metadata": {},
          "output_type": "execute_result"
        }
      ],
      "source": [
        "len(results.points)"
      ]
    },
    {
      "cell_type": "code",
      "execution_count": 12,
      "metadata": {
        "id": "A9bkSk-EquSz"
      },
      "outputs": [],
      "source": [
        "context = []"
      ]
    },
    {
      "cell_type": "code",
      "execution_count": 13,
      "metadata": {
        "id": "Btce-glIq3gk"
      },
      "outputs": [],
      "source": [
        "for result in results.points:\n",
        "      context.append({\n",
        "          'id': result.id,\n",
        "          'content': result.payload.get('content', ''),\n",
        "          'source': result.payload.get('source', ''),\n",
        "          'page': result.payload.get('page', 0),\n",
        "          'document_summary': result.payload.get('document_summary', ''),\n",
        "          'chunk_faqs': result.payload.get('chunk_faqs', []),\n",
        "          'chunk_keywords': result.payload.get('chunk_keywords', []),\n",
        "          'chunk_id': result.payload.get('chunk_id', ''),\n",
        "      })"
      ]
    },
    {
      "cell_type": "code",
      "execution_count": 14,
      "metadata": {
        "colab": {
          "base_uri": "https://localhost:8080/",
          "height": 35
        },
        "id": "gWFGDwWuq79y",
        "outputId": "87e7dc68-0e1f-45fc-a657-cc555cf5a29d"
      },
      "outputs": [
        {
          "data": {
            "application/vnd.google.colaboratory.intrinsic+json": {
              "type": "string"
            },
            "text/plain": [
              "'data/NEP_Final_English_0.pdf'"
            ]
          },
          "execution_count": 14,
          "metadata": {},
          "output_type": "execute_result"
        }
      ],
      "source": [
        "context[0]['source']"
      ]
    },
    {
      "cell_type": "markdown",
      "metadata": {
        "id": "R6GNXxk6tHiR"
      },
      "source": [
        "## Filter conditions"
      ]
    },
    {
      "cell_type": "code",
      "execution_count": 15,
      "metadata": {
        "colab": {
          "base_uri": "https://localhost:8080/"
        },
        "id": "u46tn3Z0tzsF",
        "outputId": "5ce04758-6f61-4ca0-e7ae-98d6235ddf5c"
      },
      "outputs": [
        {
          "data": {
            "text/plain": [
              "UpdateResult(operation_id=90, status=<UpdateStatus.COMPLETED: 'completed'>)"
            ]
          },
          "execution_count": 15,
          "metadata": {},
          "output_type": "execute_result"
        }
      ],
      "source": [
        "client.create_payload_index(\n",
        "    collection_name=collection_name,\n",
        "    field_name=\"source\",\n",
        "    field_schema=models.PayloadSchemaType.KEYWORD\n",
        ")"
      ]
    },
    {
      "cell_type": "code",
      "execution_count": 16,
      "metadata": {
        "colab": {
          "base_uri": "https://localhost:8080/"
        },
        "id": "Z6bHAysbuPJ7",
        "outputId": "873af463-ee8d-4960-f10c-eafdd5915e55"
      },
      "outputs": [
        {
          "data": {
            "text/plain": [
              "UpdateResult(operation_id=92, status=<UpdateStatus.COMPLETED: 'completed'>)"
            ]
          },
          "execution_count": 16,
          "metadata": {},
          "output_type": "execute_result"
        }
      ],
      "source": [
        "client.create_payload_index(\n",
        "    collection_name=collection_name,\n",
        "    field_name=\"chunk_keywords\",\n",
        "    field_schema=models.PayloadSchemaType.KEYWORD\n",
        ")"
      ]
    },
    {
      "cell_type": "code",
      "execution_count": 17,
      "metadata": {
        "id": "W_q-RdgitIxM"
      },
      "outputs": [],
      "source": [
        "filter_condition = models.Filter(\n",
        "    must=[\n",
        "        models.FieldCondition(\n",
        "            key=\"chunk_keywords\",\n",
        "            match=models.MatchValue(value=\"Human rights\")\n",
        "        )\n",
        "    ]\n",
        ")"
      ]
    },
    {
      "cell_type": "code",
      "execution_count": 18,
      "metadata": {
        "id": "XEeudRfitQTi"
      },
      "outputs": [],
      "source": [
        "results = client.query_points(\n",
        "    collection_name,\n",
        "    prefetch=prefetch,\n",
        "    query=dense_vectors,\n",
        "    using=\"dense\",\n",
        "    query_filter=filter_condition,\n",
        "    with_payload=True,\n",
        "    limit=k,\n",
        ")"
      ]
    },
    {
      "cell_type": "code",
      "execution_count": 19,
      "metadata": {
        "colab": {
          "base_uri": "https://localhost:8080/"
        },
        "id": "FsTXVPBpt5Dm",
        "outputId": "1870f426-ed16-497e-a368-91474b300ba8"
      },
      "outputs": [
        {
          "data": {
            "text/plain": [
              "QueryResponse(points=[ScoredPoint(id='89062e49-db2e-4d1c-bef4-2e904a5c6077', version=6, score=0.8891621, payload={'content': 'National Education Policy 2020\\n6\\n• a rootedness and pride in India, and its rich, diverse, ancient and modern culture and\\nknowledge systems and traditions;\\n• education is a public service; access to quality education must be considered a basic right of\\nevery child;\\n• substantial investment in a strong, vibrant public education system as well as the\\nencouragement and facilitation of true philanthropic private and community participation.\\nThe Vision of this Policy\\nThis National Education Policy envisions an education system rooted in Indian ethos that contributes\\ndirectly to transforming India, that is Bharat, sustainably into an equitable and vibrant knowledge\\nsociety, by providing high-quality education to all, and thereby making India a global knowledge\\nsuperpower. The Policy envisages that the curriculum and pedagogy of our institutions must\\ndevelop among the students a deep sense of respect towards the Fundamental Duties and\\nConstitutional values, bonding with one’s country, and a conscious awareness of one’s roles\\nand responsibilities in a changing world. The vision of the Policy is to instill among the\\nlearners a deep-rooted pride in being Indian, not only in thought, but also in spirit, intellect,\\nand deeds, as well as to develop knowledge, skills, values, and dispositions that support\\nresponsible commitment to human rights, sustainable development and living, and global\\nwell-being, thereby reflecting a truly global citizen.\\nPart I. SCHOOL EDUCATION\\nThis policy envisages that the extant 10+2 structure in school education will be modified with a new\\npedagogical and curricular restructuring of 5+3+3+4 covering ages 3-18 as shown in the\\nrepresentative figure and elaborated in detail later under Chapter 4.\\nMiddle\\n10\\n(Ages 6-16)\\n2\\n(Ages16-18)\\n2 years\\n(Class 1 & 2) \\n(Ages 6-8)\\n.............………………\\n3 years\\n(Anganwadi/ pre\\x02school/Balvatika) \\n(Ages 3-6)\\n3\\n(Class 3 to 5)\\n(Ages 8-11)\\n3\\n(Class 6 to 8)\\n(Ages 11-14)\\n4\\n(Class 9 to 12)\\n(Ages14-18)\\nPrevious academic structure New Pedagogical & Curricular StructureFoundational Preparatory Secondary\\n', 'source': 'data/NEP_Final_English_0.pdf', 'page': 6, 'document_summary': \"The National Education Policy 2020 aims to provide universal access to quality education in India, aligning with the country's vision for economic growth, social justice, and national development. The policy focuses on three key areas: school education, higher education, and other key areas of focus, including professional education, adult education, and technology integration. It emphasizes the need for a holistic, integrated, and enjoyable learning experience, with a focus on foundational literacy and numeracy, and equitable and inclusive education. The policy also highlights the importance of quality universities and colleges, institutional restructuring, and optimal learning environments. Additionally, it emphasizes the need for a skilled workforce, particularly in mathematics, computer science, and data science, to meet the demands of a rapidly changing knowledge landscape. The policy aims to achieve these goals by 2030, in line with the Sustainable Development Goals (SDGs).\", 'chunk_faqs': [{'question': 'What is the main vision of the National Education Policy 2020?', 'answer': 'The policy envisions an education system rooted in Indian ethos that contributes to transforming India into an equitable and vibrant knowledge society.'}, {'question': 'How will the new pedagogical and curricular restructuring impact school education?', 'answer': 'The extant 10+2 structure will be modified to a new 5+3+3+4 structure covering ages 3-18.'}, {'question': 'What is the focus of the National Education Policy 2020?', 'answer': 'The policy focuses on developing a deep sense of respect towards Fundamental Duties and Constitutional values, and promoting a global citizen with responsible commitment to human rights and sustainable development.'}], 'chunk_keywords': ['National Education Policy 2020', 'Indian ethos', 'Education system', 'Knowledge society', 'Global citizen', 'Human rights', 'Sustainable development', 'Indian culture', 'Education reform'], 'chunk_id': 'NEP_Final_English_0_chunk_4583'}, vector=None, shard_key=None, order_value=None), ScoredPoint(id='0226fa29-9f7e-4833-8ecb-d42f3884c490', version=16, score=0.8508496, payload={'content': \"National Education Policy 2020\\n16\\n4.26. Every student will take a fun course, during Grades 6-8, that gives a survey and hands-on\\nexperience of a sampling of important vocational crafts, such as carpentry, electric work, metal work,\\ngardening, pottery making, etc., as decided by States and local communities and as mapped by local\\nskilling needs. A practice-based curriculum for Grades 6-8 will be appropriately designed by NCERT\\nwhile framing the NCFSE 2020-21. All students will participate in a 10-day bagless period sometime\\nduring Grades 6-8 where they intern with local vocational experts such as carpenters, gardeners,\\npotters, artists, etc. Similar internship opportunities to learn vocational subjects may be made\\navailable to students throughout Grades 6-12, including holiday periods. Vocational courses through\\nonline mode will also be made available. Bagless days will be encouraged throughout the year for\\nvarious types of enrichment activities involving arts, quizzes, sports, and vocational crafts. Children\\nwill be given periodic exposure to activities outside school through visits to places/monuments of\\nhistorical, cultural and tourist importance, meeting local artists and craftsmen and visits higher\\neducational institutions in their village/Tehsil/District/State.\\n4.27. “Knowledge of India” will include knowledge from ancient India and its contributions to\\nmodern India and its successes and challenges, and a clear sense of India’s future aspirations with\\nregard to education, health, environment, etc. These elements will be incorporated in an accurate and\\nscientific manner throughout the school curriculum wherever relevant; in particular, Indian\\nKnowledge Systems, including tribal knowledge and indigenous and traditional ways of learning, will\\nbe covered and included in mathematics, astronomy, philosophy, yoga, architecture, medicine,\\nagriculture, engineering, linguistics, literature, sports, games, as well as in governance, polity,\\nconservation. Specific courses in tribal ethno-medicinal practices, forest management, traditional\\n(organic) crop cultivation, natural farming, etc. will also be made available. An engaging course on\\nIndian Knowledge Systems will also be available to students in secondary school as an elective.\\nCompetitions may be held in schools for learning various topics and subjects through fun and\\nindigenous games. Video documentaries on inspirational luminaries of India, ancient and modern, in\\nscience and beyond, will be shown at appropriate points throughout the school curriculum. Students\\nwill be encouraged to visit different States as part of cultural exchange programmes.\\n4.28. Students will be taught at a young age the importance of “doing what's right”, and will be given\\na logical framework for making ethical decisions. In later years, this would then be expanded along\\nthemes of cheating, violence, plagiarism, littering, tolerance, equality, empathy, etc., with a view to\\nenabling children to embrace moral/ethical values in conducting one's life, formulate a\\nposition/argument about an ethical issue from multiple perspectives, and use ethical practices in all\\nwork. As consequences of such basic ethical reasoning, traditional Indian values and all basic human\\nand Constitutional values (such as seva, ahimsa, swachchhata, satya, nishkam karma, shanti,\\nsacrifice, tolerance, diversity, pluralism, righteous conduct, gender sensitivity, respect for elders,\\nrespect for all people and their inherent capabilities regardless of background, respect for\\nenvironment, helpfulness, courtesy, patience, forgiveness, empathy, compassion, patriotism,\\ndemocratic outlook, integrity, responsibility, justice, liberty, equality, and fraternity) will be\\ndeveloped in all students. Children will have the opportunity to read and learn from the original\\nstories of the Panchatantra, Jataka, Hitopadesh, and other fun fables and inspiring tales from the\\nIndian tradition and learn about their influences on global literature. Excerpts from the Indian\\nConstitution will also be considered essential reading for all students. Basic training in health,\\nincluding preventive health, mental health, good nutrition, personal and public hygiene, disaster\\nresponse and first-aid will also be included in the curriculum, as well as scientific explanations of the\\ndetrimental and damaging effects of alcohol, tobacco, and other drugs.\\n4.29. All curriculum and pedagogy, from the foundational stage onwards, will be redesigned to be\\nstrongly rooted in the Indian and local context and ethos in terms of culture, traditions, heritage,\\ncustoms, language, philosophy, geography, ancient and contemporary knowledge, societal and\\nscientific needs, indigenous and traditional ways of learning etc. – in order to ensure that education is\\nmaximally relatable, relevant, interesting, and effective for our students. Stories, arts, games, sports,\\nexamples, problems, etc. will be chosen as much as possible to be rooted in the Indian and local\\ngeographic context. Ideas, abstractions, and creativity will indeed best flourish when learning is thus\\nrooted.\\n\", 'source': 'data/NEP_Final_English_0.pdf', 'page': 16, 'document_summary': \"The National Education Policy 2020 aims to provide universal access to quality education in India, aligning with the country's vision for economic growth, social justice, and national development. The policy focuses on three key areas: school education, higher education, and other key areas of focus, including professional education, adult education, and technology integration. It emphasizes the need for a holistic, integrated, and enjoyable learning experience, with a focus on foundational literacy and numeracy, and equitable and inclusive education. The policy also highlights the importance of quality universities and colleges, institutional restructuring, and optimal learning environments. Additionally, it emphasizes the need for a skilled workforce, particularly in mathematics, computer science, and data science, to meet the demands of a rapidly changing knowledge landscape. The policy aims to achieve these goals by 2030, in line with the Sustainable Development Goals (SDGs).\", 'chunk_faqs': [{'question': \"What is the National Education Policy 2020's approach to vocational education?\", 'answer': 'The policy aims to provide students with hands-on experience of vocational crafts through a 10-day internship with local experts and online courses.'}, {'question': 'How will the policy promote Indian Knowledge Systems?', 'answer': 'The policy will incorporate Indian Knowledge Systems, including tribal knowledge and indigenous ways of learning, into the school curriculum, with specific courses on tribal ethno-medicinal practices and traditional farming methods.'}, {'question': \"What is the policy's approach to teaching ethics and moral values?\", 'answer': \"The policy will teach students the importance of 'doing what's right' and provide a logical framework for making ethical decisions, with a focus on traditional Indian values and human rights.\"}], 'chunk_keywords': ['National Education Policy 2020', 'Vocational education', 'Indian Knowledge Systems', 'Tribal knowledge', 'Indigenous ways of learning', 'Ethics and moral values', 'Traditional Indian values', 'Human rights', 'Local context and ethos', 'Cultural exchange programmes'], 'chunk_id': 'NEP_Final_English_0_chunk_8240'}, vector=None, shard_key=None, order_value=None)])"
            ]
          },
          "execution_count": 19,
          "metadata": {},
          "output_type": "execute_result"
        }
      ],
      "source": [
        "results"
      ]
    }
  ],
  "metadata": {
    "accelerator": "GPU",
    "colab": {
      "gpuType": "T4",
      "provenance": []
    },
    "kernelspec": {
      "display_name": "Python 3",
      "name": "python3"
    },
    "language_info": {
      "name": "python"
    }
  },
  "nbformat": 4,
  "nbformat_minor": 0
}
