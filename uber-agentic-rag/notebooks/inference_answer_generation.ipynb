{
  "cells": [
    {
      "cell_type": "code",
      "execution_count": null,
      "metadata": {
        "id": "aH6FO7Vm4X4E"
      },
      "outputs": [],
      "source": [
        "!pip install langgraph\n",
        "!pip install qdrant-client fastembed\n",
        "!pip install langchain-google-genai\n",
        "!pip install langchain-sambanova\n",
        "!pip install ragas"
      ]
    },
    {
      "cell_type": "code",
      "execution_count": 5,
      "metadata": {
        "id": "KAz1D4Ed5gZl"
      },
      "outputs": [],
      "source": [
        "import os\n",
        "from google.colab import userdata\n",
        "from fastembed import TextEmbedding, SparseTextEmbedding\n",
        "from qdrant_client import QdrantClient,models"
      ]
    },
    {
      "cell_type": "code",
      "execution_count": 58,
      "metadata": {
        "id": "20tXs9o25qdW"
      },
      "outputs": [],
      "source": [
        "dense_model = TextEmbedding(model_name=\"jinaai/jina-embeddings-v2-small-en\")\n",
        "sparse_model = SparseTextEmbedding(model_name=\"Qdrant/BM25\")"
      ]
    },
    {
      "cell_type": "code",
      "execution_count": 59,
      "metadata": {
        "id": "Wv7exq_N7d7j"
      },
      "outputs": [],
      "source": [
        "collection_name = \"casestudy\""
      ]
    },
    {
      "cell_type": "code",
      "execution_count": 60,
      "metadata": {
        "id": "4qNUXyhq5t_a"
      },
      "outputs": [],
      "source": [
        "client = QdrantClient(\n",
        "    url = userdata.get(\"QDRANT_URL\"),\n",
        "    api_key = userdata.get(\"QDRANT_API_KEY\"),\n",
        ")"
      ]
    },
    {
      "cell_type": "code",
      "execution_count": 6,
      "metadata": {
        "id": "VXJAYBly6HOk"
      },
      "outputs": [],
      "source": [
        "from typing import List, Dict, Any, TypedDict, Optional\n",
        "from langgraph.graph import StateGraph, START, END\n",
        "from langchain_google_genai import ChatGoogleGenerativeAI\n",
        "from langchain_sambanova import ChatSambaNovaCloud\n",
        "from langchain.schema import HumanMessage, SystemMessage"
      ]
    },
    {
      "cell_type": "code",
      "execution_count": 7,
      "metadata": {
        "id": "sLsR2ubN6Scy"
      },
      "outputs": [],
      "source": [
        "os.environ['SAMBANOVA_API_KEY'] = userdata.get(\"SAMBANOVA_API_KEY\")\n",
        "os.environ['GOOGLE_API_KEY'] = userdata.get(\"GOOGLE_API_KEY\")"
      ]
    },
    {
      "cell_type": "code",
      "execution_count": 8,
      "metadata": {
        "id": "4GJGJXIa59tw"
      },
      "outputs": [],
      "source": [
        "small_llm = ChatSambaNovaCloud(\n",
        "    model=\"Meta-Llama-3.1-8B-Instruct\",\n",
        "    max_tokens=4096,\n",
        "    temperature=0.0\n",
        ")\n",
        "\n",
        "large_llm = ChatGoogleGenerativeAI(\n",
        "    model=\"gemini-2.5-flash\",\n",
        "    max_tokens=None,\n",
        "    temperature=0\n",
        ")"
      ]
    },
    {
      "cell_type": "code",
      "execution_count": 49,
      "metadata": {
        "id": "gMokVara6ZsH"
      },
      "outputs": [],
      "source": [
        "class AgenticRAGState(TypedDict):\n",
        "    query: str\n",
        "    context: List[Dict[str, Any]]\n",
        "    answer: str\n",
        "    filter_conditions: Optional[Dict[str, Any]]"
      ]
    },
    {
      "cell_type": "code",
      "execution_count": null,
      "metadata": {
        "id": "evrgKhFf6dce"
      },
      "outputs": [],
      "source": [
        "def rewriter_agent(state: AgenticRAGState) -> AgenticRAGState:\n",
        "    \"\"\"Query optimization using small LLM\"\"\"\n",
        "    query = state[\"query\"]\n",
        "\n",
        "    prompt = f\"\"\"You are an AI-powered Prompt Optimizer agent. Your sole purpose is to analyze a raw user query about Uber's internal policies and rewrite it into a clear, detailed, and structured query. This optimized query will be used by another agent to search a vector database of Uber's internal policy documents.\n",
        "\n",
        "    Your response MUST be in Markdown format and only contain the Optimized Query. DO NOT use JSON or any other format.\n",
        "\n",
        "    The raw user query will be provided below:\n",
        "    {query}\n",
        "\n",
        "    **CONTEXT:**\n",
        "    - **Domain:** Uber's internal corporate policies, procedures, and guidelines.\n",
        "    - **User:** An Uber employee who may not know the official terminology.\n",
        "    - **Goal:** To produce an optimized query that retrieves the most comprehensive and accurate policy information.\n",
        "\n",
        "    **CHAIN OF THOUGHT INSTRUCTIONS:**\n",
        "    Follow these steps methodically in your \"Chain of Thought\" section:\n",
        "    1. **Identify Core Intent:** What is the fundamental information the user is trying to find? Summarize it in one sentence.\n",
        "    2. **Extract Key Entities & Keywords:** List the primary subjects, nouns, and potential policy names mentioned or implied in the query (e.g., \"expense report,\" \"WFH policy,\" \"paternity leave,\" \"travel,\" \"stipend\").\n",
        "    3. **Disambiguate and Expand:** The user's query is likely incomplete. Brainstorm related sub-topics and questions that the user might also have. For example, if the query is \"PTO,\" consider expanding to \"PTO accrual rates,\" \"blackout periods,\" \"approval process,\" and \"carry-over policy.\"\n",
        "    4. **Infer User Persona and Context (if possible):** Is this likely a manager, an individual contributor, a new hire? Does the query imply a specific situation (e.g., preparing for a trip, having a child)? This can help focus the search.\n",
        "    5. **Synthesize Search Strategy:** Briefly describe how you will structure the final optimized query based on the steps above. This involves combining the extracted entities and expanded topics into a coherent set of questions.\n",
        "\n",
        "    **OPTIMIZED QUERY INSTRUCTIONS:**\n",
        "    - The \"Optimized Query\" should be a comprehensive, well-structured prompt.\n",
        "    - Use bullet points or numbered lists to break down the query into logical parts.\n",
        "    - Frame the query as a request for specific information, covering the core intent and the expanded sub-topics.\n",
        "    - Use both the user's original language and potential official policy terms to maximize search effectiveness.\n",
        "    \"\"\"\n",
        "\n",
        "    response = small_llm.invoke([HumanMessage(content=prompt)])\n",
        "    state[\"query\"] = response.content.strip()\n",
        "\n",
        "    return state"
      ]
    },
    {
      "cell_type": "code",
      "execution_count": 62,
      "metadata": {
        "id": "oz7NuXA87I3X"
      },
      "outputs": [],
      "source": [
        "def search_retrieval(state: AgenticRAGState) -> AgenticRAGState:\n",
        "    \"\"\"Hybrid search - Retrieval process\"\"\"\n",
        "\n",
        "    query = state[\"query\"]\n",
        "    filter_condition = state[\"filter_conditions\"]\n",
        "\n",
        "    dense_vectors = next(dense_model.embed([query]))\n",
        "    sparse_vectors = next(sparse_model.embed([query]))\n",
        "\n",
        "    prefetch = [\n",
        "        models.Prefetch(query=dense_vectors, using=\"dense\", limit=10),\n",
        "        models.Prefetch(query=models.SparseVector(**sparse_vectors.as_object()), using=\"sparse\", limit=10)\n",
        "    ]\n",
        "\n",
        "    results = client.query_points(\n",
        "        collection_name,\n",
        "        prefetch=prefetch,\n",
        "        query=dense_vectors,\n",
        "        using=\"dense\",\n",
        "        query_filter=filter_condition,\n",
        "        with_payload=True,\n",
        "        limit=5,\n",
        "    )\n",
        "\n",
        "    context = []\n",
        "    for result in results.points:\n",
        "        context.append({\n",
        "            \"content\": result.payload[\"content\"],\n",
        "            \"source\": result.payload[\"source\"],\n",
        "            \"page\": result.payload.get(\"page\", 0),\n",
        "            \"score\": result.score,\n",
        "            \"chunk_keywords\": result.payload.get('chunk_keywords', []),\n",
        "        })\n",
        "\n",
        "    state[\"context\"] = context\n",
        "    return state"
      ]
    },
    {
      "cell_type": "code",
      "execution_count": 63,
      "metadata": {
        "id": "YHxTjNTY7uyN"
      },
      "outputs": [],
      "source": [
        "def answer_generation(state: AgenticRAGState) -> AgenticRAGState:\n",
        "    \"\"\"Generate answer using large LLM\"\"\"\n",
        "\n",
        "    query = state[\"query\"]\n",
        "    context = state[\"context\"]\n",
        "\n",
        "    context_text = \"\"\n",
        "    for chunk in context:\n",
        "        context_text += f\"{chunk['source']} (Page {chunk['page']}): {chunk['content']}\\n\\n\"\n",
        "\n",
        "    prompt = f\"\"\"Answer this question using the policy context provided:\n",
        "    Question: {query}\n",
        "    Context:\n",
        "    {context_text}\n",
        "    Provide a clear, accurate answer citing the relevant sources.\n",
        "    If query is not from the context, say \"Not enough information available. Improve your query with relevant keywords\".\n",
        "    \"\"\"\n",
        "\n",
        "    response = large_llm.invoke([HumanMessage(content=prompt)])\n",
        "    state[\"answer\"] = response.content\n",
        "\n",
        "    return state"
      ]
    },
    {
      "cell_type": "code",
      "execution_count": 64,
      "metadata": {
        "id": "SOCChZMv8TyJ"
      },
      "outputs": [],
      "source": [
        "workflow = StateGraph(AgenticRAGState)"
      ]
    },
    {
      "cell_type": "code",
      "execution_count": 65,
      "metadata": {
        "colab": {
          "base_uri": "https://localhost:8080/"
        },
        "id": "06Gv5yW08OTb",
        "outputId": "68fbe0e3-411e-4f32-ebd4-4cc07b2fba8f"
      },
      "outputs": [
        {
          "data": {
            "text/plain": [
              "<langgraph.graph.state.StateGraph at 0x7d21532cd160>"
            ]
          },
          "execution_count": 65,
          "metadata": {},
          "output_type": "execute_result"
        }
      ],
      "source": [
        "workflow.add_node(\"rewriter_agent\", rewriter_agent)\n",
        "workflow.add_node(\"search_retrieval\", search_retrieval)\n",
        "workflow.add_node(\"answer_generation\", answer_generation)\n",
        "\n",
        "workflow.add_edge(START, \"rewriter_agent\")\n",
        "workflow.add_edge(\"rewriter_agent\", \"search_retrieval\")\n",
        "workflow.add_edge(\"search_retrieval\", \"answer_generation\")\n",
        "workflow.add_edge(\"answer_generation\", END)"
      ]
    },
    {
      "cell_type": "code",
      "execution_count": 66,
      "metadata": {
        "id": "8UpgqF8P8TAr"
      },
      "outputs": [],
      "source": [
        "graph = workflow.compile()"
      ]
    },
    {
      "cell_type": "code",
      "execution_count": 67,
      "metadata": {
        "colab": {
          "base_uri": "https://localhost:8080/",
          "height": 449
        },
        "id": "GSi-f7EI8h9-",
        "outputId": "a6576012-8411-4b8b-bdef-77ebbf1288c9"
      },
      "outputs": [
        {
          "data": {
            "image/png": "[encoded data removed]",
            "text/plain": [
              "<langgraph.graph.state.CompiledStateGraph object at 0x7d215301fce0>"
            ]
          },
          "execution_count": 67,
          "metadata": {},
          "output_type": "execute_result"
        }
      ],
      "source": [
        "graph"
      ]
    },
    {
      "cell_type": "code",
      "execution_count": 68,
      "metadata": {
        "id": "pAxDvXpa8XBe"
      },
      "outputs": [],
      "source": [
        "result = graph.invoke({\n",
        "        \"query\": \"How does NEP 2020 propose to integrate vocational education into mainstream schooling?\",\n",
        "        \"filter_conditions\": None\n",
        "    })"
      ]
    },
    {
      "cell_type": "code",
      "execution_count": 69,
      "metadata": {
        "colab": {
          "base_uri": "https://localhost:8080/"
        },
        "id": "qGXvrcwH9K37",
        "outputId": "961da73d-4e0e-4d1a-8204-64f648432298"
      },
      "outputs": [
        {
          "name": "stdout",
          "output_type": "stream",
          "text": [
            "Based on the provided policy context, NEP 2020 implements vocational education integration into the school curriculum primarily through the following principles and provisions:\n",
            "\n",
            "1.  **Elimination of Hard Separations:** A fundamental principle guiding the education system is to have \"no hard separations between arts and sciences, between curricular and extra-curricular activities, between vocational and academic streams, etc. in order to eliminate harmful hierarchies among, and silos between different areas of learning\" (Page 5). This indicates a philosophical shift towards integrating vocational aspects rather than treating them as separate, inferior streams.\n",
            "\n",
            "2.  **Flexibility and Student Choice in Secondary Stage:** In the Secondary Stage (Grades 9-12), students will have \"greater flexibility and student choice of subjects.\" Specifically, students will have the option of \"re-entering in the next phase to pursue vocational or any other courses available in Grades 11-12, including at a more specialized school, if so desired\" (Page 12). This suggests that vocational courses will be available as choices within the curriculum, particularly in the later years of schooling.\n",
            "\n",
            "3.  **Vocational Education through Open Schools:** The National Institute of Open Schooling (NIOS) and State Open Schools will be expanded and strengthened to offer \"vocational education courses/programmes\" in addition to their existing offerings (Page 11). This provides an alternative pathway for students to access vocational education.\n",
            "\n",
            "4.  **National Committee for Integration:** The policy mentions the \"NCIVE National Committee for the Integration of Vocational Education\" (Page 64), indicating that a dedicated body will be responsible for overseeing and facilitating this integration.\n",
            "\n",
            "While the policy establishes the principle of integration and provides avenues for vocational courses, the provided text does not detail the specific pedagogical or curricular mechanisms for *how* vocational education content will be embedded or integrated into the general school curriculum for all students across different stages (e.g., through specific subjects, projects, or experiential learning mandates for all students).\n"
          ]
        }
      ],
      "source": [
        "print(result['answer'])"
      ]
    },
    {
      "cell_type": "markdown",
      "metadata": {
        "id": "u_tcro-B-8lV"
      },
      "source": [
        "## Evals"
      ]
    },
    {
      "cell_type": "code",
      "execution_count": null,
      "metadata": {
        "id": "3n4_euqZAY-l"
      },
      "outputs": [],
      "source": [
        "!pip install pymupdf\n",
        "!pip install rapidfuzz\n",
        "!pip install langchain-openai"
      ]
    },
    {
      "cell_type": "code",
      "execution_count": 40,
      "metadata": {
        "id": "q8snwiXw-9ab"
      },
      "outputs": [],
      "source": [
        "from ragas.testset import TestsetGenerator\n",
        "from ragas.llms import LangchainLLMWrapper\n",
        "from ragas.embeddings import LangchainEmbeddingsWrapper\n",
        "\n",
        "from langchain_community.document_loaders import PyMuPDFLoader\n",
        "from langchain_openai import OpenAIEmbeddings\n",
        "from langchain_openai import ChatOpenAI"
      ]
    },
    {
      "cell_type": "code",
      "execution_count": 31,
      "metadata": {
        "id": "om0AJQ2oLqlk"
      },
      "outputs": [],
      "source": [
        "os.environ['OPENAI_API_KEY'] = userdata.get('OPENAI_API_KEY')"
      ]
    },
    {
      "cell_type": "code",
      "execution_count": 32,
      "metadata": {
        "id": "gxOfyZ6YAVCg"
      },
      "outputs": [],
      "source": [
        "loader = PyMuPDFLoader(\"/content/data.pdf\")"
      ]
    },
    {
      "cell_type": "code",
      "execution_count": 33,
      "metadata": {
        "id": "mU99iPmPL4wn"
      },
      "outputs": [],
      "source": [
        "data = loader.load()"
      ]
    },
    {
      "cell_type": "code",
      "execution_count": 36,
      "metadata": {
        "id": "rfGToGKo_sp4"
      },
      "outputs": [],
      "source": [
        "eval_embeddings = OpenAIEmbeddings(\n",
        "    model=\"text-embedding-3-small\"\n",
        ")"
      ]
    },
    {
      "cell_type": "code",
      "execution_count": 41,
      "metadata": {
        "id": "9I4eClDoMrGx"
      },
      "outputs": [],
      "source": [
        "eval_llm = ChatOpenAI(\n",
        "    model=\"gpt-4o\",\n",
        "    temperature=0.9,\n",
        ")"
      ]
    },
    {
      "cell_type": "code",
      "execution_count": 42,
      "metadata": {
        "id": "nGDNTI--_YbF"
      },
      "outputs": [],
      "source": [
        "evaluator_llm = LangchainLLMWrapper(eval_llm)\n",
        "evaluator_embeddings = LangchainEmbeddingsWrapper(eval_embeddings)"
      ]
    },
    {
      "cell_type": "code",
      "execution_count": null,
      "metadata": {
        "id": "UJQ606J1ALr3"
      },
      "outputs": [],
      "source": [
        "generator = TestsetGenerator(llm=evaluator_llm, embedding_model=evaluator_embeddings)\n",
        "dataset = generator.generate_with_langchain_docs(data, testset_size=10)"
      ]
    },
    {
      "cell_type": "code",
      "execution_count": 45,
      "metadata": {
        "colab": {
          "base_uri": "https://localhost:8080/",
          "height": 634
        },
        "id": "2LicJNo6NVDc",
        "outputId": "bd333c78-68e6-40de-d49d-19a2faade766"
      },
      "outputs": [
        {
          "data": {
            "application/vnd.google.colaboratory.intrinsic+json": {
              "summary": "{\n  \"name\": \"dataset\",\n  \"rows\": 12,\n  \"fields\": [\n    {\n      \"column\": \"user_input\",\n      \"properties\": {\n        \"dtype\": \"string\",\n        \"num_unique_values\": 12,\n        \"samples\": [\n          \"How does the National Education Policy 2020 aim to integrate the multidisciplinary approach of ancient institutions like Takshashila into modern education?\",\n          \"How does the National Education Policy 2020 aim to integrate multidisciplinary and flexible learning structures in educational institutions, and what role does the Indian Council of Agriculture Research play in this framework?\",\n          \"How does the 2030 Agenda for Sustainable Development influence India's educational reforms, particularly in terms of promoting inclusive and equitable quality education?\"\n        ],\n        \"semantic_type\": \"\",\n        \"description\": \"\"\n      }\n    },\n    {\n      \"column\": \"reference_contexts\",\n      \"properties\": {\n        \"dtype\": \"object\",\n        \"semantic_type\": \"\",\n        \"description\": \"\"\n      }\n    },\n    {\n      \"column\": \"reference\",\n      \"properties\": {\n        \"dtype\": \"string\",\n        \"num_unique_values\": 12,\n        \"samples\": [\n          \"The National Education Policy 2020 aims to integrate the multidisciplinary approach of ancient institutions like Takshashila into modern education by emphasizing the development of both cognitive and non-cognitive capacities, such as critical thinking, problem-solving, social, ethical, and emotional capacities. It draws inspiration from the rich heritage of ancient Indian knowledge and thought, which valued a holistic education encompassing various fields such as mathematics, science, vocational subjects, professional subjects, and soft skills. The policy seeks to re-establish a liberal arts education that combines humanities and arts with STEM, fostering creativity, innovation, critical thinking, and problem-solving abilities. This approach is intended to create a coherent ecosystem of higher education that mirrors the multidisciplinary and holistic learning traditions of ancient Indian universities like Takshashila.\",\n          \"The National Education Policy 2020 envisions a comprehensive approach to transforming the quality and quantity of research in India by promoting a multidisciplinary nature in all Higher Education Institutions (HEIs) and emphasizing holistic education. This includes shifts in school education towards a more play and discovery-based style of learning, with an emphasis on the scientific method and critical thinking. The policy also aims to establish a National Research Foundation (NRF) to enable a culture of research across universities, providing merit-based research funding and fostering research capabilities, particularly in State Universities and other public institutions. The Indian Council of Agriculture Research (ICAR), along with other institutions like the Department of Science and Technology and the Indian Council of Medical Research, will continue to independently fund research according to their priorities. However, the NRF will coordinate with these agencies to ensure synergy and avoid duplication of efforts, thereby integrating multidisciplinary and flexible learning structures in educational institutions.\",\n          \"The 2030 Agenda for Sustainable Development, specifically Goal 4 (SDG4), which India adopted in 2015, aims to 'ensure inclusive and equitable quality education and promote lifelong learning opportunities for all' by 2030. This goal necessitates a comprehensive reconfiguration of the education system to support and foster learning, ensuring that all critical targets and goals of the 2030 Agenda can be achieved. The National Education Policy 2020, as the first education policy of the 21st century, seeks to address these developmental imperatives by revising and revamping the education structure, including its regulation and governance, to align with the aspirational goals of 21st-century education, including SDG4. This involves making education more experiential, holistic, integrated, inquiry-driven, and learner-centred, while also ensuring equitable access to the highest-quality education for all learners, regardless of social or economic background.\"\n        ],\n        \"semantic_type\": \"\",\n        \"description\": \"\"\n      }\n    },\n    {\n      \"column\": \"synthesizer_name\",\n      \"properties\": {\n        \"dtype\": \"category\",\n        \"num_unique_values\": 3,\n        \"samples\": [\n          \"single_hop_specifc_query_synthesizer\",\n          \"multi_hop_abstract_query_synthesizer\",\n          \"multi_hop_specific_query_synthesizer\"\n        ],\n        \"semantic_type\": \"\",\n        \"description\": \"\"\n      }\n    }\n  ]\n}",
              "type": "dataframe"
            },
            "text/html": [
              "\n",
              "  <div id=\"df-43e61e72-4aad-4ae5-9ae4-4c8cd434a6bd\" class=\"colab-df-container\">\n",
              "    <div>\n",
              "<style scoped>\n",
              "    .dataframe tbody tr th:only-of-type {\n",
              "        vertical-align: middle;\n",
              "    }\n",
              "\n",
              "    .dataframe tbody tr th {\n",
              "        vertical-align: top;\n",
              "    }\n",
              "\n",
              "    .dataframe thead th {\n",
              "        text-align: right;\n",
              "    }\n",
              "</style>\n",
              "<table border=\"1\" class=\"dataframe\">\n",
              "  <thead>\n",
              "    <tr style=\"text-align: right;\">\n",
              "      <th></th>\n",
              "      <th>user_input</th>\n",
              "      <th>reference_contexts</th>\n",
              "      <th>reference</th>\n",
              "      <th>synthesizer_name</th>\n",
              "    </tr>\n",
              "  </thead>\n",
              "  <tbody>\n",
              "    <tr>\n",
              "      <th>0</th>\n",
              "      <td>How does the 2030 Agenda for Sustainable Devel...</td>\n",
              "      <td>[Introduction Education is fundamental for ach...</td>\n",
              "      <td>The 2030 Agenda for Sustainable Development, s...</td>\n",
              "      <td>single_hop_specifc_query_synthesizer</td>\n",
              "    </tr>\n",
              "    <tr>\n",
              "      <th>1</th>\n",
              "      <td>Who was Susruta and what contributions did he ...</td>\n",
              "      <td>[National Education Policy 2020 4 Education Po...</td>\n",
              "      <td>Susruta was one of the great scholars produced...</td>\n",
              "      <td>single_hop_specifc_query_synthesizer</td>\n",
              "    </tr>\n",
              "    <tr>\n",
              "      <th>2</th>\n",
              "      <td>How does the Right of Children to Free and Com...</td>\n",
              "      <td>[Previous Policies The implementation of previ...</td>\n",
              "      <td>The Right of Children to Free and Compulsory E...</td>\n",
              "      <td>single_hop_specifc_query_synthesizer</td>\n",
              "    </tr>\n",
              "    <tr>\n",
              "      <th>3</th>\n",
              "      <td>Wht does the Ntional Educaion Policy 2020 say ...</td>\n",
              "      <td>[National Education Policy 2020 7 Currently, c...</td>\n",
              "      <td>The National Education Policy 2020 includes ch...</td>\n",
              "      <td>single_hop_specifc_query_synthesizer</td>\n",
              "    </tr>\n",
              "    <tr>\n",
              "      <th>4</th>\n",
              "      <td>How does the National Education Policy 2020 ad...</td>\n",
              "      <td>[&lt;1-hop&gt;\\n\\nNational Education Policy 2020 46 ...</td>\n",
              "      <td>The National Education Policy 2020 addresses t...</td>\n",
              "      <td>multi_hop_abstract_query_synthesizer</td>\n",
              "    </tr>\n",
              "    <tr>\n",
              "      <th>5</th>\n",
              "      <td>How does the National Education Policy 2020 pr...</td>\n",
              "      <td>[&lt;1-hop&gt;\\n\\nNational Education Policy 2020 46 ...</td>\n",
              "      <td>The National Education Policy 2020 proposes to...</td>\n",
              "      <td>multi_hop_abstract_query_synthesizer</td>\n",
              "    </tr>\n",
              "    <tr>\n",
              "      <th>6</th>\n",
              "      <td>What does the National Education Policy 2020 p...</td>\n",
              "      <td>[&lt;1-hop&gt;\\n\\nNational Education Policy 2020 43 ...</td>\n",
              "      <td>The National Education Policy 2020 highlights ...</td>\n",
              "      <td>multi_hop_abstract_query_synthesizer</td>\n",
              "    </tr>\n",
              "    <tr>\n",
              "      <th>7</th>\n",
              "      <td>How does the National Education Policy 2020 ai...</td>\n",
              "      <td>[&lt;1-hop&gt;\\n\\nNational Education Policy 2020 48 ...</td>\n",
              "      <td>The National Education Policy 2020 aims to add...</td>\n",
              "      <td>multi_hop_abstract_query_synthesizer</td>\n",
              "    </tr>\n",
              "    <tr>\n",
              "      <th>8</th>\n",
              "      <td>How does the General Education Council (GEC) c...</td>\n",
              "      <td>[&lt;1-hop&gt;\\n\\nProfessional Standards for Teacher...</td>\n",
              "      <td>The General Education Council (GEC) contribute...</td>\n",
              "      <td>multi_hop_specific_query_synthesizer</td>\n",
              "    </tr>\n",
              "    <tr>\n",
              "      <th>9</th>\n",
              "      <td>How does the National Education Policy 2020 ai...</td>\n",
              "      <td>[&lt;1-hop&gt;\\n\\nNational Education Policy 2020 46 ...</td>\n",
              "      <td>The National Education Policy 2020 envisions a...</td>\n",
              "      <td>multi_hop_specific_query_synthesizer</td>\n",
              "    </tr>\n",
              "    <tr>\n",
              "      <th>10</th>\n",
              "      <td>How does the National Education Policy 2020 ai...</td>\n",
              "      <td>[&lt;1-hop&gt;\\n\\nNational Education Policy 2020 4 E...</td>\n",
              "      <td>The National Education Policy 2020 aims to int...</td>\n",
              "      <td>multi_hop_specific_query_synthesizer</td>\n",
              "    </tr>\n",
              "    <tr>\n",
              "      <th>11</th>\n",
              "      <td>How does the National Education Policy 2020 pr...</td>\n",
              "      <td>[&lt;1-hop&gt;\\n\\nNational Education Policy 2020 41 ...</td>\n",
              "      <td>The National Education Policy 2020 aims to enh...</td>\n",
              "      <td>multi_hop_specific_query_synthesizer</td>\n",
              "    </tr>\n",
              "  </tbody>\n",
              "</table>\n",
              "</div>\n",
              "    <div class=\"colab-df-buttons\">\n",
              "\n",
              "  <div class=\"colab-df-container\">\n",
              "    <button class=\"colab-df-convert\" onclick=\"convertToInteractive('df-43e61e72-4aad-4ae5-9ae4-4c8cd434a6bd')\"\n",
              "            title=\"Convert this dataframe to an interactive table.\"\n",
              "            style=\"display:none;\">\n",
              "\n",
              "  <svg xmlns=\"http://www.w3.org/2000/svg\" height=\"24px\" viewBox=\"0 -960 960 960\">\n",
              "    <path d=\"M120-120v-720h720v720H120Zm60-500h600v-160H180v160Zm220 220h160v-160H400v160Zm0 220h160v-160H400v160ZM180-400h160v-160H180v160Zm440 0h160v-160H620v160ZM180-180h160v-160H180v160Zm440 0h160v-160H620v160Z\"/>\n",
              "  </svg>\n",
              "    </button>\n",
              "\n",
              "  <style>\n",
              "    .colab-df-container {\n",
              "      display:flex;\n",
              "      gap: 12px;\n",
              "    }\n",
              "\n",
              "    .colab-df-convert {\n",
              "      background-color: #E8F0FE;\n",
              "      border: none;\n",
              "      border-radius: 50%;\n",
              "      cursor: pointer;\n",
              "      display: none;\n",
              "      fill: #1967D2;\n",
              "      height: 32px;\n",
              "      padding: 0 0 0 0;\n",
              "      width: 32px;\n",
              "    }\n",
              "\n",
              "    .colab-df-convert:hover {\n",
              "      background-color: #E2EBFA;\n",
              "      box-shadow: 0px 1px 2px rgba(60, 64, 67, 0.3), 0px 1px 3px 1px rgba(60, 64, 67, 0.15);\n",
              "      fill: #174EA6;\n",
              "    }\n",
              "\n",
              "    .colab-df-buttons div {\n",
              "      margin-bottom: 4px;\n",
              "    }\n",
              "\n",
              "    [theme=dark] .colab-df-convert {\n",
              "      background-color: #3B4455;\n",
              "      fill: #D2E3FC;\n",
              "    }\n",
              "\n",
              "    [theme=dark] .colab-df-convert:hover {\n",
              "      background-color: #434B5C;\n",
              "      box-shadow: 0px 1px 3px 1px rgba(0, 0, 0, 0.15);\n",
              "      filter: drop-shadow(0px 1px 2px rgba(0, 0, 0, 0.3));\n",
              "      fill: #FFFFFF;\n",
              "    }\n",
              "  </style>\n",
              "\n",
              "    <script>\n",
              "      const buttonEl =\n",
              "        document.querySelector('#df-43e61e72-4aad-4ae5-9ae4-4c8cd434a6bd button.colab-df-convert');\n",
              "      buttonEl.style.display =\n",
              "        google.colab.kernel.accessAllowed ? 'block' : 'none';\n",
              "\n",
              "      async function convertToInteractive(key) {\n",
              "        const element = document.querySelector('#df-43e61e72-4aad-4ae5-9ae4-4c8cd434a6bd');\n",
              "        const dataTable =\n",
              "          await google.colab.kernel.invokeFunction('convertToInteractive',\n",
              "                                                    [key], {});\n",
              "        if (!dataTable) return;\n",
              "\n",
              "        const docLinkHtml = 'Like what you see? Visit the ' +\n",
              "          '<a target=\"_blank\" href=https://colab.research.google.com/notebooks/data_table.ipynb>data table notebook</a>'\n",
              "          + ' to learn more about interactive tables.';\n",
              "        element.innerHTML = '';\n",
              "        dataTable['output_type'] = 'display_data';\n",
              "        await google.colab.output.renderOutput(dataTable, element);\n",
              "        const docLink = document.createElement('div');\n",
              "        docLink.innerHTML = docLinkHtml;\n",
              "        element.appendChild(docLink);\n",
              "      }\n",
              "    </script>\n",
              "  </div>\n",
              "\n",
              "\n",
              "    <div id=\"df-ba834938-4112-4ee4-9cf2-cf0b3cba84d8\">\n",
              "      <button class=\"colab-df-quickchart\" onclick=\"quickchart('df-ba834938-4112-4ee4-9cf2-cf0b3cba84d8')\"\n",
              "                title=\"Suggest charts\"\n",
              "                style=\"display:none;\">\n",
              "\n",
              "<svg xmlns=\"http://www.w3.org/2000/svg\" height=\"24px\"viewBox=\"0 0 24 24\"\n",
              "     width=\"24px\">\n",
              "    <g>\n",
              "        <path d=\"M19 3H5c-1.1 0-2 .9-2 2v14c0 1.1.9 2 2 2h14c1.1 0 2-.9 2-2V5c0-1.1-.9-2-2-2zM9 17H7v-7h2v7zm4 0h-2V7h2v10zm4 0h-2v-4h2v4z\"/>\n",
              "    </g>\n",
              "</svg>\n",
              "      </button>\n",
              "\n",
              "<style>\n",
              "  .colab-df-quickchart {\n",
              "      --bg-color: #E8F0FE;\n",
              "      --fill-color: #1967D2;\n",
              "      --hover-bg-color: #E2EBFA;\n",
              "      --hover-fill-color: #174EA6;\n",
              "      --disabled-fill-color: #AAA;\n",
              "      --disabled-bg-color: #DDD;\n",
              "  }\n",
              "\n",
              "  [theme=dark] .colab-df-quickchart {\n",
              "      --bg-color: #3B4455;\n",
              "      --fill-color: #D2E3FC;\n",
              "      --hover-bg-color: #434B5C;\n",
              "      --hover-fill-color: #FFFFFF;\n",
              "      --disabled-bg-color: #3B4455;\n",
              "      --disabled-fill-color: #666;\n",
              "  }\n",
              "\n",
              "  .colab-df-quickchart {\n",
              "    background-color: var(--bg-color);\n",
              "    border: none;\n",
              "    border-radius: 50%;\n",
              "    cursor: pointer;\n",
              "    display: none;\n",
              "    fill: var(--fill-color);\n",
              "    height: 32px;\n",
              "    padding: 0;\n",
              "    width: 32px;\n",
              "  }\n",
              "\n",
              "  .colab-df-quickchart:hover {\n",
              "    background-color: var(--hover-bg-color);\n",
              "    box-shadow: 0 1px 2px rgba(60, 64, 67, 0.3), 0 1px 3px 1px rgba(60, 64, 67, 0.15);\n",
              "    fill: var(--button-hover-fill-color);\n",
              "  }\n",
              "\n",
              "  .colab-df-quickchart-complete:disabled,\n",
              "  .colab-df-quickchart-complete:disabled:hover {\n",
              "    background-color: var(--disabled-bg-color);\n",
              "    fill: var(--disabled-fill-color);\n",
              "    box-shadow: none;\n",
              "  }\n",
              "\n",
              "  .colab-df-spinner {\n",
              "    border: 2px solid var(--fill-color);\n",
              "    border-color: transparent;\n",
              "    border-bottom-color: var(--fill-color);\n",
              "    animation:\n",
              "      spin 1s steps(1) infinite;\n",
              "  }\n",
              "\n",
              "  @keyframes spin {\n",
              "    0% {\n",
              "      border-color: transparent;\n",
              "      border-bottom-color: var(--fill-color);\n",
              "      border-left-color: var(--fill-color);\n",
              "    }\n",
              "    20% {\n",
              "      border-color: transparent;\n",
              "      border-left-color: var(--fill-color);\n",
              "      border-top-color: var(--fill-color);\n",
              "    }\n",
              "    30% {\n",
              "      border-color: transparent;\n",
              "      border-left-color: var(--fill-color);\n",
              "      border-top-color: var(--fill-color);\n",
              "      border-right-color: var(--fill-color);\n",
              "    }\n",
              "    40% {\n",
              "      border-color: transparent;\n",
              "      border-right-color: var(--fill-color);\n",
              "      border-top-color: var(--fill-color);\n",
              "    }\n",
              "    60% {\n",
              "      border-color: transparent;\n",
              "      border-right-color: var(--fill-color);\n",
              "    }\n",
              "    80% {\n",
              "      border-color: transparent;\n",
              "      border-right-color: var(--fill-color);\n",
              "      border-bottom-color: var(--fill-color);\n",
              "    }\n",
              "    90% {\n",
              "      border-color: transparent;\n",
              "      border-bottom-color: var(--fill-color);\n",
              "    }\n",
              "  }\n",
              "</style>\n",
              "\n",
              "      <script>\n",
              "        async function quickchart(key) {\n",
              "          const quickchartButtonEl =\n",
              "            document.querySelector('#' + key + ' button');\n",
              "          quickchartButtonEl.disabled = true;  // To prevent multiple clicks.\n",
              "          quickchartButtonEl.classList.add('colab-df-spinner');\n",
              "          try {\n",
              "            const charts = await google.colab.kernel.invokeFunction(\n",
              "                'suggestCharts', [key], {});\n",
              "          } catch (error) {\n",
              "            console.error('Error during call to suggestCharts:', error);\n",
              "          }\n",
              "          quickchartButtonEl.classList.remove('colab-df-spinner');\n",
              "          quickchartButtonEl.classList.add('colab-df-quickchart-complete');\n",
              "        }\n",
              "        (() => {\n",
              "          let quickchartButtonEl =\n",
              "            document.querySelector('#df-ba834938-4112-4ee4-9cf2-cf0b3cba84d8 button');\n",
              "          quickchartButtonEl.style.display =\n",
              "            google.colab.kernel.accessAllowed ? 'block' : 'none';\n",
              "        })();\n",
              "      </script>\n",
              "    </div>\n",
              "\n",
              "    </div>\n",
              "  </div>\n"
            ],
            "text/plain": [
              "                                           user_input  \\\n",
              "0   How does the 2030 Agenda for Sustainable Devel...   \n",
              "1   Who was Susruta and what contributions did he ...   \n",
              "2   How does the Right of Children to Free and Com...   \n",
              "3   Wht does the Ntional Educaion Policy 2020 say ...   \n",
              "4   How does the National Education Policy 2020 ad...   \n",
              "5   How does the National Education Policy 2020 pr...   \n",
              "6   What does the National Education Policy 2020 p...   \n",
              "7   How does the National Education Policy 2020 ai...   \n",
              "8   How does the General Education Council (GEC) c...   \n",
              "9   How does the National Education Policy 2020 ai...   \n",
              "10  How does the National Education Policy 2020 ai...   \n",
              "11  How does the National Education Policy 2020 pr...   \n",
              "\n",
              "                                   reference_contexts  \\\n",
              "0   [Introduction Education is fundamental for ach...   \n",
              "1   [National Education Policy 2020 4 Education Po...   \n",
              "2   [Previous Policies The implementation of previ...   \n",
              "3   [National Education Policy 2020 7 Currently, c...   \n",
              "4   [<1-hop>\\n\\nNational Education Policy 2020 46 ...   \n",
              "5   [<1-hop>\\n\\nNational Education Policy 2020 46 ...   \n",
              "6   [<1-hop>\\n\\nNational Education Policy 2020 43 ...   \n",
              "7   [<1-hop>\\n\\nNational Education Policy 2020 48 ...   \n",
              "8   [<1-hop>\\n\\nProfessional Standards for Teacher...   \n",
              "9   [<1-hop>\\n\\nNational Education Policy 2020 46 ...   \n",
              "10  [<1-hop>\\n\\nNational Education Policy 2020 4 E...   \n",
              "11  [<1-hop>\\n\\nNational Education Policy 2020 41 ...   \n",
              "\n",
              "                                            reference  \\\n",
              "0   The 2030 Agenda for Sustainable Development, s...   \n",
              "1   Susruta was one of the great scholars produced...   \n",
              "2   The Right of Children to Free and Compulsory E...   \n",
              "3   The National Education Policy 2020 includes ch...   \n",
              "4   The National Education Policy 2020 addresses t...   \n",
              "5   The National Education Policy 2020 proposes to...   \n",
              "6   The National Education Policy 2020 highlights ...   \n",
              "7   The National Education Policy 2020 aims to add...   \n",
              "8   The General Education Council (GEC) contribute...   \n",
              "9   The National Education Policy 2020 envisions a...   \n",
              "10  The National Education Policy 2020 aims to int...   \n",
              "11  The National Education Policy 2020 aims to enh...   \n",
              "\n",
              "                        synthesizer_name  \n",
              "0   single_hop_specifc_query_synthesizer  \n",
              "1   single_hop_specifc_query_synthesizer  \n",
              "2   single_hop_specifc_query_synthesizer  \n",
              "3   single_hop_specifc_query_synthesizer  \n",
              "4   multi_hop_abstract_query_synthesizer  \n",
              "5   multi_hop_abstract_query_synthesizer  \n",
              "6   multi_hop_abstract_query_synthesizer  \n",
              "7   multi_hop_abstract_query_synthesizer  \n",
              "8   multi_hop_specific_query_synthesizer  \n",
              "9   multi_hop_specific_query_synthesizer  \n",
              "10  multi_hop_specific_query_synthesizer  \n",
              "11  multi_hop_specific_query_synthesizer  "
            ]
          },
          "execution_count": 45,
          "metadata": {},
          "output_type": "execute_result"
        }
      ],
      "source": [
        "dataset.to_pandas()"
      ]
    },
    {
      "cell_type": "code",
      "execution_count": 47,
      "metadata": {
        "id": "csF1WBQnNgWW"
      },
      "outputs": [],
      "source": [
        "dataset.to_pandas().to_csv(\"data.csv\",index=False)"
      ]
    },
    {
      "cell_type": "markdown",
      "metadata": {
        "id": "O3uy5es0NrLh"
      },
      "source": [
        "## LLM as a Judge"
      ]
    },
    {
      "cell_type": "code",
      "execution_count": 73,
      "metadata": {
        "id": "_F1Da4g1Nl6V"
      },
      "outputs": [],
      "source": [
        "def get_context_relevance(context,question):\n",
        "  instuctions = \"\"\"You are a teacher grading a quiz.\n",
        "  You will be given a QUESTION and a set of FACTS provided by the student.\n",
        "\n",
        "  Here is the grade criteria to follow:\n",
        "\n",
        "  <criteria>\n",
        "  (1) You goal is to identify FACTS that are completely unrelated to the QUESTION\n",
        "  (2) If the facts contain ANY keywords or semantic meaning related to the question, consider them relevant\n",
        "  (3) It is OK if the facts have SOME information that is unrelated to the question as long as (2) is met\n",
        "  </criteria>\n",
        "\n",
        "  <instructions>\n",
        "  Relevance:\n",
        "  A relevance value of True means that the FACTS contain ANY keywords or semantic meaning related to the QUESTION and are therefore relevant.\n",
        "  A relevance value of False means that the FACTS are completely unrelated to the QUESTION.\n",
        "  Explain your reasoning in a step-by-step manner to ensure your reasoning and conclusion are correct.\n",
        "  Avoid simply stating the correct answer at the outset.\n",
        "  </instructions>\n",
        "  \"\"\"\n",
        "\n",
        "  relevant_document = \"\\n\\n\".join(doc['content'] for doc in context)\n",
        "\n",
        "  # Context relevance (C|Q)\n",
        "  eval_setup = f\"FACTS: {relevant_document}\\nQUESTION: {question}\"\n",
        "\n",
        "  prompt = [\n",
        "        {\"role\": \"system\", \"content\": instuctions},\n",
        "        {\"role\": \"user\", \"content\": eval_setup},\n",
        "    ]\n",
        "  grade = large_llm.invoke(prompt)\n",
        "\n",
        "  return grade.content"
      ]
    },
    {
      "cell_type": "code",
      "execution_count": 75,
      "metadata": {
        "id": "GYU_WkBYOIwD"
      },
      "outputs": [],
      "source": [
        "cr = get_context_relevance(context=result['context'],question=result['query'])"
      ]
    },
    {
      "cell_type": "code",
      "execution_count": 76,
      "metadata": {
        "colab": {
          "base_uri": "https://localhost:8080/"
        },
        "id": "bToCMPigOfjW",
        "outputId": "c1d9393d-0c24-4485-b472-72aeb4498cb9"
      },
      "outputs": [
        {
          "name": "stdout",
          "output_type": "stream",
          "text": [
            "**Relevance:** True\n",
            "\n",
            "**Reasoning:**\n",
            "\n",
            "1.  **Identify keywords in the QUESTION:** The key terms in the question are \"NEP 2020,\" \"implement,\" \"vocational education,\" and \"integration into school curriculum.\"\n",
            "2.  **Scan FACTS for keywords/semantic matches:**\n",
            "    *   The document title itself is \"National Education Policy 2020.\"\n",
            "    *   On page 5, under \"The fundamental principles that will guide both the education system at large,\" there is a bullet point stating: \"no hard separations between arts and sciences, between curricular and extra-curricular activities, between vocational and academic streams, etc. in order to eliminate harmful hierarchies among, and silos between different areas of learning;\". This directly addresses the integration of vocational streams into the broader curriculum by removing barriers.\n",
            "    *   On page 11, paragraph 3.5 mentions: \"NIOS and State Open Schools will offer the following programmes in addition to the present programmes: ... vocational education courses/programmes;\". This indicates the provision of vocational education within the schooling system.\n",
            "    *   On page 12 (implicitly 4.1/4.2), it states: \"re-entering in the next phase to pursue vocational or any other courses available in Grades 11-12, including at a more specialized school, if so desired.\" This explicitly details the availability of vocational courses within the school curriculum at the secondary stage.\n",
            "    *   On page 64, the acronym list includes \"NCIVE National Committee for the Integration of Vocational Education\" and \"NCVET National Council for Vocational Education and Training.\" The existence of a \"National Committee for the Integration of Vocational Education\" directly signifies a mechanism and intent for integration.\n",
            "3.  **Evaluate relevance based on criteria:** The facts contain multiple direct mentions of \"vocational education,\" \"vocational streams,\" and \"integration,\" and describe specific ways (e.g., no hard separations, availability in Grades 11-12, dedicated committees) that NEP 2020 addresses this. Therefore, the facts are highly relevant to the question.\n"
          ]
        }
      ],
      "source": [
        "print(cr)"
      ]
    },
    {
      "cell_type": "code",
      "execution_count": 80,
      "metadata": {
        "id": "KIC3rBcCObQI"
      },
      "outputs": [],
      "source": [
        "def get_answer_relevance(question,answer):\n",
        "  instuctions = \"\"\"You are a teacher grading a quiz.\n",
        "    You will be given a QUESTION and a STUDENT ANSWER.\n",
        "\n",
        "    <criteria>\n",
        "    Here is the grade criteria to follow:\n",
        "    (1) Ensure the STUDENT ANSWER is concise and relevant to the QUESTION\n",
        "    (2) Ensure the STUDENT ANSWER helps to answer the QUESTION\n",
        "    </criteria>\n",
        "\n",
        "    <instructions>\n",
        "    Relevance:\n",
        "    A relevance value of True means that the student's answer meets all of the criteria.\n",
        "    A relevance value of False means that the student's answer does not meet all of the criteria.\n",
        "    Explain your reasoning in a step-by-step manner to ensure your reasoning and conclusion are correct.\n",
        "    Avoid simply stating the correct answer at the outset.\n",
        "    </instructions>\n",
        "  \"\"\"\n",
        "\n",
        "  eval_setup = f\"QUESTION: {question}\\nSTUDENT ANSWER: {answer}\"\n",
        "  prompt = [\n",
        "        {\"role\": \"system\", \"content\": instuctions},\n",
        "        {\"role\": \"user\", \"content\": eval_setup},\n",
        "    ]\n",
        "  grade = large_llm.invoke(prompt)\n",
        "\n",
        "  return grade.content"
      ]
    },
    {
      "cell_type": "code",
      "execution_count": 81,
      "metadata": {
        "id": "vj8PiR_MOoTU"
      },
      "outputs": [],
      "source": [
        "ar = get_answer_relevance(question=result['query'],answer=result['answer'])"
      ]
    },
    {
      "cell_type": "code",
      "execution_count": 82,
      "metadata": {
        "colab": {
          "base_uri": "https://localhost:8080/"
        },
        "id": "wx0VSbnCOqHq",
        "outputId": "375affa5-bd26-4550-834c-32d03c9ea4bf"
      },
      "outputs": [
        {
          "name": "stdout",
          "output_type": "stream",
          "text": [
            "Relevance: True\n",
            "\n",
            "**Reasoning:**\n",
            "\n",
            "1.  **Analyze the Question:** The question asks \"How does NEP 2020 implement vocational education integration into school curriculum?\" This requires the student to identify specific mechanisms, principles, or strategies outlined in the policy for this integration.\n",
            "2.  **Evaluate Criterion 1 (Concise and Relevant):**\n",
            "    *   The student's answer is structured into distinct points, making it clear and relatively concise.\n",
            "    *   Each point directly addresses a method or principle of implementation, such as eliminating hard separations, offering student choice, utilizing open schools, and establishing a dedicated committee. These are all highly relevant to \"how\" the integration is implemented.\n",
            "    *   The concluding paragraph, while noting what the policy *doesn't* detail, is also relevant as it demonstrates the student's understanding of the scope of the provided information and doesn't introduce irrelevant content.\n",
            "3.  **Evaluate Criterion 2 (Helps to Answer the Question):**\n",
            "    *   The student's answer provides several concrete ways NEP 2020 implements vocational education integration. These include:\n",
            "        *   A foundational philosophical shift (elimination of hard separations).\n",
            "        *   Specific curricular provisions (flexibility and student choice in secondary stage).\n",
            "        *   Alternative pathways (vocational education through open schools).\n",
            "        *   An institutional mechanism (National Committee for Integration).\n",
            "    *   These points collectively provide a comprehensive answer to the \"how\" aspect of the question based on the policy context.\n",
            "\n",
            "**Conclusion:** The student's answer is concise, directly relevant to the question, and effectively explains multiple ways NEP 2020 implements vocational education integration into the school curriculum.\n"
          ]
        }
      ],
      "source": [
        "print(ar)"
      ]
    },
    {
      "cell_type": "code",
      "execution_count": 87,
      "metadata": {
        "id": "JfXOv22jO-EQ"
      },
      "outputs": [],
      "source": [
        "from ragas import SingleTurnSample\n",
        "from ragas.metrics import LLMContextPrecisionWithReference\n",
        "from ragas.metrics import LLMContextPrecisionWithoutReference"
      ]
    },
    {
      "cell_type": "code",
      "execution_count": 89,
      "metadata": {
        "id": "ZCDqQbHoPAzA"
      },
      "outputs": [],
      "source": [
        "def get_context_precision(context,question,answer):\n",
        "  evaluator_llm = LangchainLLMWrapper(large_llm)\n",
        "\n",
        "  context_precision = LLMContextPrecisionWithoutReference(llm=evaluator_llm)\n",
        "\n",
        "  context = \" \".join(doc['content'] for doc in context)\n",
        "\n",
        "  eval = SingleTurnSample(\n",
        "    user_input=question,\n",
        "    response=answer,\n",
        "    retrieved_contexts=[context],\n",
        "  )\n",
        "\n",
        "  return context_precision.single_turn_ascore(eval)"
      ]
    },
    {
      "cell_type": "code",
      "execution_count": 90,
      "metadata": {
        "id": "Xa7DBVwsOwqd"
      },
      "outputs": [],
      "source": [
        "precision = get_context_precision(result['context'],result['query'],result['answer'])"
      ]
    },
    {
      "cell_type": "code",
      "execution_count": 91,
      "metadata": {
        "colab": {
          "base_uri": "https://localhost:8080/"
        },
        "id": "3z8pZ63FPtNu",
        "outputId": "a9cea193-a38c-4fe5-9db1-b93cdc519ab5"
      },
      "outputs": [
        {
          "data": {
            "text/plain": [
              "0.9999999999"
            ]
          },
          "execution_count": 91,
          "metadata": {},
          "output_type": "execute_result"
        }
      ],
      "source": [
        "await precision"
      ]
    }
  ],
  "metadata": {
    "colab": {
      "provenance": []
    },
    "kernelspec": {
      "display_name": "Python 3",
      "name": "python3"
    },
    "language_info": {
      "name": "python"
    }
  },
  "nbformat": 4,
  "nbformat_minor": 0
}
